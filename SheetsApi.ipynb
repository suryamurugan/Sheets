{
  "nbformat": 4,
  "nbformat_minor": 0,
  "metadata": {
    "colab": {
      "name": "SheetsApi",
      "version": "0.3.2",
      "provenance": [],
      "collapsed_sections": [],
      "include_colab_link": true
    },
    "kernelspec": {
      "name": "python3",
      "display_name": "Python 3"
    }
  },
  "cells": [
    {
      "cell_type": "markdown",
      "metadata": {
        "id": "view-in-github",
        "colab_type": "text"
      },
      "source": [
        "<a href=\"https://colab.research.google.com/github/suryamurugan/Sheets/blob/master/SheetsApi.ipynb\" target=\"_parent\"><img src=\"https://colab.research.google.com/assets/colab-badge.svg\" alt=\"Open In Colab\"/></a>"
      ]
    },
    {
      "metadata": {
        "id": "foM0uzAxwyGg",
        "colab_type": "code",
        "outputId": "70aac66a-4e01-47af-b604-fb9d14f038c5",
        "colab": {
          "base_uri": "https://localhost:8080/",
          "height": 34
        }
      },
      "cell_type": "code",
      "source": [
        "# importing the requests library \n",
        "import requests \n",
        "import json as JSON\n",
        "\n",
        "from pprint import pprint\n",
        "# api-endpoint \n",
        "URL = \"https://spreadsheets.google.com/feeds/cells/1J4XipZDgfhazdPJr1NlDGGwpxOgtL3z_tJjS4c_suJ8/1/public/full?alt=json\"\n",
        "\n",
        "  \n",
        "# location given here \n",
        "#location = \"delhi technological university\"\n",
        "  \n",
        "# defining a params dict for the parameters to be sent to the API \n",
        "#PARAMS = {'address':location} \n",
        "  \n",
        "# sending get request and saving the response as response object \n",
        "#r = requests.get(url = URL, params = PARAMS) \n",
        "r = requests.get(url = URL) \n",
        "  \n",
        "# extracting data in json format \n",
        "data = r.json() \n",
        "  \n",
        "  \n",
        "# extracting latitude, longitude and formatted address  \n",
        "# of the first matching location \n",
        "#latitude = data['results'][0]['geometry']['location']['lat'] \n",
        "#longitude = data['results'][0]['geometry']['location']['lng'] \n",
        "#formatted_address = data['results'][0]['formatted_address'] \n",
        "  \n",
        "# printing the output \n",
        "#print(\"Latitude:%s\\nLongitude:%s\\nFormatted Address:%s\"\n",
        " #     %(latitude, longitude,formatted_address)) \n",
        "#print(data['feed']['entry'])\n",
        "\n",
        "array = data['feed']['entry']\n",
        "\n",
        "\n",
        "i=0\n",
        "\n",
        "\n",
        "dictdata = dict()\n",
        "d = {}\n",
        "\n",
        "while i < len(array)-1:\n",
        "  #print(i)\n",
        "  #print(array[i]['gs$cell']['inputValue'])\n",
        "  d[array[i]['gs$cell']['inputValue']] = array[i+1]['gs$cell']['inputValue']\n",
        "  #d[\"Country\"] = \"Canada\"\n",
        "  i+=1\n",
        "#print(\"No idea \"+d)\n",
        "type(d)\n",
        "\n",
        "\n",
        "json = JSON.dumps(d)\n",
        "f = open(\"dict.json\",\"w\")\n",
        "f.write(json)\n",
        "f.close()\n",
        "  \n",
        "  #f.write(x['gs$cell']['inputValue'])\n",
        "  #f.write(\"\\n\")\n",
        "\n",
        "\n",
        "\n",
        "\n",
        "#dictdata.add\n",
        "\n",
        "#open and read the file after the appending:\n",
        "with open('dict.json') as f:\n",
        "    data = JSON.load(f)\n",
        "\n",
        "type(data)\n",
        "print(data.get('john'))\n",
        "#python_obj = json.loads(json_data)\n",
        "#type(python_obj)\n",
        "#import os\n",
        "#os.remove(\"data.txt\")"
      ],
      "execution_count": 0,
      "outputs": [
        {
          "output_type": "stream",
          "text": [
            "suryamurugan\n"
          ],
          "name": "stdout"
        }
      ]
    },
    {
      "metadata": {
        "id": "ZoHG4lggyLqu",
        "colab_type": "code",
        "colab": {}
      },
      "cell_type": "code",
      "source": [
        "()"
      ],
      "execution_count": 0,
      "outputs": []
    }
  ]
}